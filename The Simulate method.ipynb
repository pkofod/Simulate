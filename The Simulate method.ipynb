{
 "cells": [
  {
   "cell_type": "markdown",
   "metadata": {},
   "source": [
    "# Understanding the `simulate` method in HARK\n",
    "In this notebook we take a quick look at the simulate method in HARK. The purpose is to help you implement the required methods for your own class and to understand how `simulate` works. We use `IndShockConsumerType` to illustrate."
   ]
  },
  {
   "cell_type": "code",
   "execution_count": 9,
   "metadata": {},
   "outputs": [],
   "source": [
    "from HARK.ConsumptionSaving.ConsIndShockModel import IndShockConsumerType\n",
    "import HARK.ConsumptionSaving.ConsumerParameters as param "
   ]
  },
  {
   "cell_type": "markdown",
   "metadata": {},
   "source": [
    "When inheriting from `AgentType`, or classes that themselves\n",
    "inherit from `AgentType`, you get the `simulate` method.\n",
    "\n",
    "It will set the time to \"Forward mode\", determine the\n",
    "number of periods to simulate, and simulate each period\n",
    "using the `simOnePeriod` method. It will simulate `self.T_sim` times. It will then track all\n",
    "variables in `self.track_vars`.\n",
    "\n",
    "Let us look at the case of a standard life cycle model with parameters from `ConsumerParamters.init_lifecycle`. Note that we solve it. With no"
   ]
  },
  {
   "cell_type": "code",
   "execution_count": 10,
   "metadata": {},
   "outputs": [
    {
     "data": {
      "text/plain": [
       "[]"
      ]
     },
     "execution_count": 10,
     "metadata": {},
     "output_type": "execute_result"
    }
   ],
   "source": [
    "pars = param.init_lifecycle\n",
    "model = IndShockConsumerType(**pars)\n",
    "model.solve()\n",
    "model.T_sim = 8\n",
    "model.track_vars"
   ]
  },
  {
   "cell_type": "markdown",
   "metadata": {},
   "source": [
    "Nothing there! What if we try to simulate?"
   ]
  },
  {
   "cell_type": "code",
   "execution_count": 11,
   "metadata": {},
   "outputs": [],
   "source": [
    "model.initializeSim()\n",
    "model.simulate()"
   ]
  },
  {
   "cell_type": "markdown",
   "metadata": {},
   "source": [
    "We actually succesfully simulated all the agents, but if you look through the \"contents\" of `model`, no record was kept, because we hadn't asked it to.\n",
    "\n",
    "We now also specify that we want to track the normalized resources and agent age. Note, as agents die off, new agents take their place as newborns."
   ]
  },
  {
   "cell_type": "code",
   "execution_count": 13,
   "metadata": {},
   "outputs": [],
   "source": [
    "model.track_vars = ['mNrmNow', 't_age']\n",
    "model.initializeSim()\n",
    "model.simulate()"
   ]
  },
  {
   "cell_type": "code",
   "execution_count": 14,
   "metadata": {},
   "outputs": [
    {
     "data": {
      "text/plain": [
       "array([[1.47254653, 1.75334988, 2.29001854, ..., 2.43984884, 1.46813265,\n",
       "        1.1738894 ],\n",
       "       [1.67750658, 1.86982108, 2.16086098, ..., 2.14471441, 1.67460177,\n",
       "        1.02799918],\n",
       "       [1.2716236 , 2.24339761, 1.82568699, ..., 1.84334403, 1.860793  ,\n",
       "        1.66701884],\n",
       "       ...,\n",
       "       [1.34687863, 1.02467664, 1.22392536, ..., 2.10987414, 0.95409672,\n",
       "        1.27820716],\n",
       "       [1.27766786, 0.99441941, 1.195255  , ..., 1.86190268, 1.25429289,\n",
       "        0.52310628],\n",
       "       [1.30322026, 2.71866829, 0.99642317, ..., 0.82258437, 1.51719858,\n",
       "        1.01652988]])"
      ]
     },
     "execution_count": 14,
     "metadata": {},
     "output_type": "execute_result"
    }
   ],
   "source": [
    "model.mNrmNow_hist"
   ]
  },
  {
   "cell_type": "code",
   "execution_count": 15,
   "metadata": {},
   "outputs": [
    {
     "data": {
      "text/plain": [
       "array([[1., 1., 1., ..., 1., 1., 1.],\n",
       "       [2., 2., 2., ..., 2., 2., 2.],\n",
       "       [3., 3., 3., ..., 3., 3., 1.],\n",
       "       ...,\n",
       "       [1., 6., 3., ..., 2., 6., 4.],\n",
       "       [2., 7., 4., ..., 3., 1., 5.],\n",
       "       [3., 1., 5., ..., 4., 2., 6.]])"
      ]
     },
     "execution_count": 15,
     "metadata": {},
     "output_type": "execute_result"
    }
   ],
   "source": [
    "model.t_age_hist"
   ]
  },
  {
   "cell_type": "markdown",
   "metadata": {},
   "source": [
    "We can then plot a relationship between the normalized resources and age."
   ]
  },
  {
   "cell_type": "code",
   "execution_count": 16,
   "metadata": {},
   "outputs": [
    {
     "data": {
      "text/plain": [
       "<matplotlib.collections.PathCollection at 0x7f1608d41128>"
      ]
     },
     "execution_count": 16,
     "metadata": {},
     "output_type": "execute_result"
    },
    {
     "data": {
      "image/png": "[encoded data removed]",
      "text/plain": [
       "<Figure size 432x288 with 1 Axes>"
      ]
     },
     "metadata": {
      "needs_background": "light"
     },
     "output_type": "display_data"
    }
   ],
   "source": [
    "import matplotlib.pyplot as plt\n",
    "plt.scatter(model.t_age_hist, model.mNrmNow_hist)"
   ]
  },
  {
   "cell_type": "markdown",
   "metadata": {},
   "source": [
    "## How is it implemented"
   ]
  },
  {
   "cell_type": "markdown",
   "metadata": {},
   "source": [
    "We stated earlier that to simulate a data set,  `AgentType` uses the `simOnePeriod`. So to understand `simulate`, we basically need to understand what\n",
    "`simOnePeriod` does. `simOnePeriod` calls\n",
    "\n",
    "- getMortility()\n",
    "- getShocks() - or if self.read_shocks is true: readShocks()\n",
    "- getStates()\n",
    "- getControls()\n",
    "- getPostStates()\n",
    "\n",
    "then it increments people's ages and shifts their cycle (resetting\n",
    "if the cycle length is reached). The number of agents is determined by the\n",
    "integer stored in self.AgentCount.\n",
    "\n",
    "`getMortality()` figures out who dies (through `simDeath()`), and\n",
    "gives birth to people using `simBirth()` in order to repopulate the\n",
    "dataset.\n",
    "\n",
    "`getShocks()` generates shocks for individuals. Alternatively, readShocks()\n",
    "can be used (if self.read_shocks==True) to read the shock from the current simulation\n",
    "time `self.t_sim` from a pre-specified shock history in `self.name_hist` for all \"name\"\n",
    "in `self.shock_vars`.\n",
    "\n",
    "`getStates()` calculates the current states using last period's post-decision states\n",
    "and current period shocks (or whatever is implemented by the class in question).\n",
    "\n",
    "`getControls()` calculates controls given shocks and states. \n",
    "\n",
    "`getPostStates()` calculates post-decision states given shocks, states and controls.\n",
    "\n",
    "Now, there are some interesting things we can look at. First, let's look at the atttribute `shock_vars`."
   ]
  },
  {
   "cell_type": "code",
   "execution_count": 17,
   "metadata": {},
   "outputs": [
    {
     "data": {
      "text/plain": [
       "['PermShkNow', 'TranShkNow']"
      ]
     },
     "execution_count": 17,
     "metadata": {},
     "output_type": "execute_result"
    }
   ],
   "source": [
    "model.shock_vars"
   ]
  },
  {
   "cell_type": "markdown",
   "metadata": {},
   "source": [
    "Here we see, that `model.shock_vars` contains the `PermShkNow` and `TranShkNow` shock names. This tells us that `getShocks` will generate (or \"get\") these shocks for all agents given the specified distribution."
   ]
  }
 ],
 "metadata": {
  "@webio": {
   "lastCommId": null,
   "lastKernelId": null
  },
  "kernelspec": {
   "display_name": "Python 3",
   "language": "python",
   "name": "python3"
  },
  "language_info": {
   "codemirror_mode": {
    "name": "ipython",
    "version": 3
   },
   "file_extension": ".py",
   "mimetype": "text/x-python",
   "name": "python",
   "nbconvert_exporter": "python",
   "pygments_lexer": "ipython3",
   "version": "3.6.8"
  }
 },
 "nbformat": 4,
 "nbformat_minor": 2
}
